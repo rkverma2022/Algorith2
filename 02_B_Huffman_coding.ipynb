{
 "cells": [
  {
   "cell_type": "code",
   "execution_count": 19,
   "metadata": {},
   "outputs": [],
   "source": [
    "import numpy as np"
   ]
  },
  {
   "cell_type": "code",
   "execution_count": 20,
   "metadata": {},
   "outputs": [
    {
     "name": "stdout",
     "output_type": "stream",
     "text": [
      "['b', 'e', ' ', 'h', 'a', 'p', 'p', 'y']\n"
     ]
    }
   ],
   "source": [
    "message = \"be happy\"\n",
    "m = message\n",
    "message = list(message)\n",
    "unique_word = set(message)\n",
    "print(message)\n",
    "message_freq = dict()\n",
    "for a in unique_word:\n",
    "    message_freq[a] = message.count(a)\n"
   ]
  },
  {
   "cell_type": "code",
   "execution_count": 21,
   "metadata": {},
   "outputs": [
    {
     "data": {
      "text/plain": [
       "{'y': 1, 'e': 1, 'a': 1, 'p': 2, 'b': 1, ' ': 1, 'h': 1}"
      ]
     },
     "execution_count": 21,
     "metadata": {},
     "output_type": "execute_result"
    }
   ],
   "source": [
    "message_freq\n"
   ]
  },
  {
   "cell_type": "code",
   "execution_count": 22,
   "metadata": {},
   "outputs": [
    {
     "data": {
      "text/plain": [
       "(1, ' ')"
      ]
     },
     "execution_count": 22,
     "metadata": {},
     "output_type": "execute_result"
    }
   ],
   "source": [
    "min(zip(message_freq.values(), message_freq.keys()))\n"
   ]
  },
  {
   "cell_type": "code",
   "execution_count": 23,
   "metadata": {},
   "outputs": [],
   "source": [
    "huffman_code = dict()\n",
    "for a in unique_word:\n",
    "    huffman_code[a] = \"\"\n"
   ]
  },
  {
   "cell_type": "code",
   "execution_count": 24,
   "metadata": {},
   "outputs": [
    {
     "data": {
      "text/plain": [
       "{'y': '', 'e': '', 'a': '', 'p': '', 'b': '', ' ': '', 'h': ''}"
      ]
     },
     "execution_count": 24,
     "metadata": {},
     "output_type": "execute_result"
    }
   ],
   "source": [
    "huffman_code\n"
   ]
  },
  {
   "cell_type": "code",
   "execution_count": 25,
   "metadata": {},
   "outputs": [],
   "source": [
    "def huff(message_freq, inter_nodes, huffman_code):\n",
    "    # base case\n",
    "    if len(message_freq) == 1:\n",
    "        return message_freq, inter_nodes, huffman_code\n",
    "    \n",
    "    l_child=min(zip(message_freq.values(), message_freq.keys()))\n",
    "    message_freq.pop(l_child[1])\n",
    "\n",
    "    r_child=min(zip(message_freq.values(), message_freq.keys()))\n",
    "    message_freq.pop(r_child[1])\n",
    "    \n",
    "    inter_nodes.append(l_child[1] + r_child[1])\n",
    "    message_freq[l_child[1] + r_child[1]] = l_child[0] + r_child[0]\n",
    "\n",
    "    for a in huffman_code.keys():\n",
    "        if a in list(l_child[1]):\n",
    "            p = huffman_code[a]\n",
    "            huffman_code[a] = p + str(0)   \n",
    "        elif a in list(r_child[1]):\n",
    "            p = huffman_code[a]\n",
    "            huffman_code[a] = p + str(1)   \n",
    "\n",
    "    return huff(message_freq, inter_nodes, huffman_code)"
   ]
  },
  {
   "cell_type": "code",
   "execution_count": 26,
   "metadata": {},
   "outputs": [],
   "source": [
    "\n",
    "inter_nodes = []\n",
    "roots, inter_nodes, huffman_code = huff(message_freq, inter_nodes, huffman_code)"
   ]
  },
  {
   "cell_type": "code",
   "execution_count": 27,
   "metadata": {},
   "outputs": [
    {
     "data": {
      "text/plain": [
       "{'y': '101',\n",
       " 'e': '110',\n",
       " 'a': '100',\n",
       " 'p': '11',\n",
       " 'b': '010',\n",
       " ' ': '000',\n",
       " 'h': '001'}"
      ]
     },
     "execution_count": 27,
     "metadata": {},
     "output_type": "execute_result"
    }
   ],
   "source": [
    "huffman_code"
   ]
  },
  {
   "cell_type": "code",
   "execution_count": 28,
   "metadata": {},
   "outputs": [
    {
     "data": {
      "text/plain": [
       "{'y': '101',\n",
       " 'e': '011',\n",
       " 'a': '001',\n",
       " 'p': '11',\n",
       " 'b': '010',\n",
       " ' ': '000',\n",
       " 'h': '100'}"
      ]
     },
     "execution_count": 28,
     "metadata": {},
     "output_type": "execute_result"
    }
   ],
   "source": [
    "for a in huffman_code.keys():\n",
    "    p = huffman_code[a]\n",
    "    huffman_code[a] = p[::-1]\n",
    "\n",
    "huffman_code"
   ]
  },
  {
   "attachments": {},
   "cell_type": "markdown",
   "metadata": {},
   "source": [
    "# Message to Huffman code"
   ]
  },
  {
   "cell_type": "code",
   "execution_count": 29,
   "metadata": {},
   "outputs": [
    {
     "name": "stdout",
     "output_type": "stream",
     "text": [
      "message : be happy\t huffman code : 0100110001000011111101\n"
     ]
    }
   ],
   "source": [
    "coded_message = \"\"\n",
    "\n",
    "for a in list(message):\n",
    "    coded_message += huffman_code[a]\n",
    "\n",
    "#final coded messages\n",
    "print(f\"message : {m}\\t huffman code : {coded_message}\")"
   ]
  },
  {
   "attachments": {},
   "cell_type": "markdown",
   "metadata": {},
   "source": [
    "# Huffman code to Message || Decoding"
   ]
  },
  {
   "cell_type": "code",
   "execution_count": 30,
   "metadata": {},
   "outputs": [],
   "source": [
    "c_message = list(coded_message)\n",
    "reference_huff_tree = huffman_code\n",
    "decoded_message = \"\""
   ]
  },
  {
   "cell_type": "code",
   "execution_count": 31,
   "metadata": {},
   "outputs": [
    {
     "name": "stdout",
     "output_type": "stream",
     "text": [
      "huffman_code : 0100110001000011111101\t DECODED MESSAGE: be happy\n"
     ]
    }
   ],
   "source": [
    "\n",
    "temp = \"\"\n",
    "for a in c_message:\n",
    "    temp += a\n",
    "    for b in zip(reference_huff_tree.values(), reference_huff_tree.keys()):\n",
    "        if temp == b[0]:\n",
    "            decoded_message += b[1]\n",
    "            temp = \"\"\n",
    "\n",
    "print(f\"huffman_code : {coded_message}\\t DECODED MESSAGE: {decoded_message}\")"
   ]
  },
  {
   "cell_type": "code",
   "execution_count": null,
   "metadata": {},
   "outputs": [],
   "source": []
  },
  {
   "cell_type": "code",
   "execution_count": null,
   "metadata": {},
   "outputs": [],
   "source": []
  },
  {
   "attachments": {},
   "cell_type": "markdown",
   "metadata": {},
   "source": [
    "# Rough Work"
   ]
  },
  {
   "cell_type": "code",
   "execution_count": 32,
   "metadata": {},
   "outputs": [
    {
     "data": {
      "text/plain": [
       "{'a': '13'}"
      ]
     },
     "execution_count": 32,
     "metadata": {},
     "output_type": "execute_result"
    }
   ],
   "source": [
    "t = {\"a\": ''}\n",
    "t['a'] = '1'\n",
    "p = t['a']\n",
    "t['a'] = p + \"3\"\n",
    "t"
   ]
  },
  {
   "cell_type": "code",
   "execution_count": 33,
   "metadata": {},
   "outputs": [
    {
     "name": "stdout",
     "output_type": "stream",
     "text": [
      "!dlroW ,olleH\n"
     ]
    }
   ],
   "source": [
    "# Using slicing to reverse a string\n",
    "my_string = 'Hello, World!'\n",
    "reversed_string = my_string[::-1]\n",
    "print(reversed_string)"
   ]
  },
  {
   "cell_type": "code",
   "execution_count": 34,
   "metadata": {},
   "outputs": [],
   "source": [
    "new_roll = \"\""
   ]
  },
  {
   "cell_type": "code",
   "execution_count": 35,
   "metadata": {},
   "outputs": [],
   "source": [
    "new_roll = [new_roll.join(str(x)) for x in p]"
   ]
  },
  {
   "cell_type": "code",
   "execution_count": 36,
   "metadata": {},
   "outputs": [
    {
     "data": {
      "text/plain": [
       "['1']"
      ]
     },
     "execution_count": 36,
     "metadata": {},
     "output_type": "execute_result"
    }
   ],
   "source": [
    "new_roll"
   ]
  },
  {
   "cell_type": "code",
   "execution_count": null,
   "metadata": {},
   "outputs": [],
   "source": []
  }
 ],
 "metadata": {
  "kernelspec": {
   "display_name": "Python 3",
   "language": "python",
   "name": "python3"
  },
  "language_info": {
   "codemirror_mode": {
    "name": "ipython",
    "version": 3
   },
   "file_extension": ".py",
   "mimetype": "text/x-python",
   "name": "python",
   "nbconvert_exporter": "python",
   "pygments_lexer": "ipython3",
   "version": "3.11.1"
  },
  "orig_nbformat": 4
 },
 "nbformat": 4,
 "nbformat_minor": 2
}
