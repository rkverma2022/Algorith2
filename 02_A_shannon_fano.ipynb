{
 "cells": [
  {
   "attachments": {},
   "cell_type": "markdown",
   "metadata": {},
   "source": [
    "# Shannon Fano || Data Compression"
   ]
  },
  {
   "cell_type": "code",
   "execution_count": 63,
   "metadata": {},
   "outputs": [
    {
     "name": "stdout",
     "output_type": "stream",
     "text": [
      "['R', ' ', 'V', 'E', 'D', 'A', ' ', 'S', 'H', 'R', 'E', 'E']\n"
     ]
    }
   ],
   "source": [
    "message = \"R VEDA SHREE\"\n",
    "m = message\n",
    "message = list(message)\n",
    "unique_word = set(message)\n",
    "print(message)\n",
    "message_prob = dict()\n",
    "for a in unique_word:\n",
    "    message_prob[a] = message.count(a)/len(message)\n"
   ]
  },
  {
   "cell_type": "code",
   "execution_count": 64,
   "metadata": {},
   "outputs": [
    {
     "data": {
      "text/plain": [
       "{' ', 'A', 'D', 'E', 'H', 'R', 'S', 'V'}"
      ]
     },
     "execution_count": 64,
     "metadata": {},
     "output_type": "execute_result"
    }
   ],
   "source": [
    "unique_word"
   ]
  },
  {
   "cell_type": "code",
   "execution_count": 65,
   "metadata": {},
   "outputs": [
    {
     "data": {
      "text/plain": [
       "{'D': 0.08333333333333333,\n",
       " 'V': 0.08333333333333333,\n",
       " 'E': 0.25,\n",
       " 'A': 0.08333333333333333,\n",
       " ' ': 0.16666666666666666,\n",
       " 'S': 0.08333333333333333,\n",
       " 'H': 0.08333333333333333,\n",
       " 'R': 0.16666666666666666}"
      ]
     },
     "execution_count": 65,
     "metadata": {},
     "output_type": "execute_result"
    }
   ],
   "source": [
    "message_prob"
   ]
  },
  {
   "cell_type": "code",
   "execution_count": 66,
   "metadata": {},
   "outputs": [],
   "source": [
    "shannon_codeword = dict()\n",
    "for a in unique_word:\n",
    "    shannon_codeword[a] = \"\""
   ]
  },
  {
   "cell_type": "code",
   "execution_count": 67,
   "metadata": {},
   "outputs": [
    {
     "data": {
      "text/plain": [
       "1.0"
      ]
     },
     "execution_count": 67,
     "metadata": {},
     "output_type": "execute_result"
    }
   ],
   "source": [
    "sum(message_prob.values())"
   ]
  },
  {
   "cell_type": "code",
   "execution_count": 68,
   "metadata": {},
   "outputs": [],
   "source": [
    "def shannon_fano(message_prob, unique_word, shannon_codeword):\n",
    "    if len(unique_word) <=1:\n",
    "        return shannon_codeword\n",
    "    \n",
    "    l_prob = dict()\n",
    "    \n",
    "\n",
    "    temp = max(zip(message_prob.values(), message_prob.keys()))\n",
    "    l_prob[temp[1]] = temp[0]\n",
    "    l_word = []\n",
    "    unique_word.remove(temp[1])\n",
    "    l_word.append(temp[1])\n",
    "    p = shannon_codeword[temp[1]]\n",
    "    shannon_codeword[temp[1]] = p + str(0) \n",
    "    message_prob.pop(temp[1])\n",
    "\n",
    "    devider = 0.00\n",
    "    devider = temp[0]\n",
    "    mid = sum(message_prob.values())/2.0\n",
    "    while(devider <= mid):\n",
    "        temp = max(zip(message_prob.values(), message_prob.keys()))\n",
    "        l_prob[temp[1]] = temp[0]\n",
    "        unique_word.remove(temp[1])\n",
    "        l_word.append(temp[1])\n",
    "        p = shannon_codeword[temp[1]]\n",
    "        shannon_codeword[temp[1]] = p + str(0) \n",
    "        message_prob.pop(temp[1])\n",
    "        devider += temp[0]\n",
    "\n",
    "    for b in message_prob.keys():\n",
    "        p = shannon_codeword[b]\n",
    "        shannon_codeword[b] = p + str(1)\n",
    "\n",
    "    shannon_fano(l_prob, l_word, shannon_codeword)\n",
    "    shannon_fano(message_prob, unique_word, shannon_codeword)\n",
    "\n",
    "    return shannon_codeword\n"
   ]
  },
  {
   "cell_type": "code",
   "execution_count": 69,
   "metadata": {},
   "outputs": [],
   "source": [
    "shannon_codeword = shannon_fano(message_prob, unique_word, shannon_codeword)"
   ]
  },
  {
   "cell_type": "code",
   "execution_count": 70,
   "metadata": {},
   "outputs": [
    {
     "data": {
      "text/plain": [
       "{'D': '1110',\n",
       " 'V': '101',\n",
       " 'E': '00',\n",
       " 'A': '1111',\n",
       " ' ': '100',\n",
       " 'S': '1100',\n",
       " 'H': '1101',\n",
       " 'R': '01'}"
      ]
     },
     "execution_count": 70,
     "metadata": {},
     "output_type": "execute_result"
    }
   ],
   "source": [
    "shannon_codeword"
   ]
  },
  {
   "attachments": {},
   "cell_type": "markdown",
   "metadata": {},
   "source": [
    "# Shannon Fano || Data Compression\n",
    "*Message to Shannon Code Word"
   ]
  },
  {
   "cell_type": "code",
   "execution_count": 71,
   "metadata": {},
   "outputs": [
    {
     "name": "stdout",
     "output_type": "stream",
     "text": [
      "message : R VEDA SHREE\t Shannon Code Word : 01100101001110111110011001101010000\n"
     ]
    }
   ],
   "source": [
    "coded_message = \"\"\n",
    "\n",
    "for a in message:\n",
    "    coded_message += shannon_codeword[a]\n",
    "\n",
    "#final coded messages\n",
    "print(f\"message : {m}\\t Shannon Code Word : {coded_message}\")\n",
    "    "
   ]
  }
 ],
 "metadata": {
  "kernelspec": {
   "display_name": "Python 3",
   "language": "python",
   "name": "python3"
  },
  "language_info": {
   "codemirror_mode": {
    "name": "ipython",
    "version": 3
   },
   "file_extension": ".py",
   "mimetype": "text/x-python",
   "name": "python",
   "nbconvert_exporter": "python",
   "pygments_lexer": "ipython3",
   "version": "3.11.1"
  },
  "orig_nbformat": 4
 },
 "nbformat": 4,
 "nbformat_minor": 2
}
