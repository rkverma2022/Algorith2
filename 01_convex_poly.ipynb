{
 "cells": [
  {
   "cell_type": "code",
   "execution_count": 1,
   "metadata": {},
   "outputs": [],
   "source": [
    "\n",
    "import random\n",
    "import math"
   ]
  },
  {
   "cell_type": "code",
   "execution_count": 6,
   "metadata": {},
   "outputs": [],
   "source": [
    "def coordinates(n, r):\n",
    "\n",
    "    t = (2*math.pi )/n\n",
    "\n",
    "    vertices = set(())\n",
    "    phi = 0.0\n",
    "    for i in range(n):\n",
    "\n",
    "        x = r * math.cos(phi)\n",
    "        y = r * math.sin(phi)\n",
    "        phi += random.uniform(0.001, t)\n",
    "        \n",
    "        f = open(\"vertices.txt\", \"a+\")\n",
    "        f.write(str((x, y)) + \"; \")\n",
    "    f.write(\"\\n\")\n",
    "    f.close\n",
    "    \n",
    "    return vertices\n"
   ]
  },
  {
   "cell_type": "code",
   "execution_count": 9,
   "metadata": {},
   "outputs": [],
   "source": [
    "if __name__ == \"__main__\":\n",
    "    n = int(input(\"Enter Number of Polygons| Max no. of Vertices: \"))\n",
    "    r = float(input(\"Radius of Circum Circle: \"))\n",
    "\n",
    "    for i in range(3, n+1):\n",
    "        coordinates(i , r)\n",
    "        \n",
    "\n"
   ]
  },
  {
   "cell_type": "code",
   "execution_count": null,
   "metadata": {},
   "outputs": [],
   "source": []
  },
  {
   "cell_type": "code",
   "execution_count": null,
   "metadata": {},
   "outputs": [],
   "source": []
  }
 ],
 "metadata": {
  "kernelspec": {
   "display_name": "Python 3",
   "language": "python",
   "name": "python3"
  },
  "language_info": {
   "codemirror_mode": {
    "name": "ipython",
    "version": 3
   },
   "file_extension": ".py",
   "mimetype": "text/x-python",
   "name": "python",
   "nbconvert_exporter": "python",
   "pygments_lexer": "ipython3",
   "version": "3.11.1"
  },
  "orig_nbformat": 4
 },
 "nbformat": 4,
 "nbformat_minor": 2
}
