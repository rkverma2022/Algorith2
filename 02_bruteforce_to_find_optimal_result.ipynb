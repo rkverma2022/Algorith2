{
 "cells": [
  {
   "attachments": {},
   "cell_type": "markdown",
   "metadata": {},
   "source": [
    "# Brute Force Method || Polygon Triangularisation ||"
   ]
  },
  {
   "cell_type": "code",
   "execution_count": 12,
   "metadata": {},
   "outputs": [],
   "source": [
    "import math"
   ]
  },
  {
   "cell_type": "code",
   "execution_count": 13,
   "metadata": {},
   "outputs": [],
   "source": [
    "def distance(p1, p2):\n",
    "    x1, y1 = p1.split(', ')\n",
    "    x1 = float(x1.split('(')[1])\n",
    "    y1 = float(y1.split(')')[0])\n",
    "\n",
    "    x2, y2 = p2.split(', ')\n",
    "    x2 = float(x2.split('(')[1])\n",
    "    y2 = float(y2.split(')')[0])\n",
    "\n",
    "    return math.sqrt(pow((x1-x2), 2) + pow((y1 -y2), 2))\n",
    "    "
   ]
  },
  {
   "cell_type": "code",
   "execution_count": 14,
   "metadata": {},
   "outputs": [
    {
     "data": {
      "text/plain": [
       "2.8284271247461903"
      ]
     },
     "execution_count": 14,
     "metadata": {},
     "output_type": "execute_result"
    }
   ],
   "source": [
    "distance(str((1, 2)), str((3, 4)))"
   ]
  },
  {
   "cell_type": "code",
   "execution_count": 15,
   "metadata": {},
   "outputs": [],
   "source": [
    "def choosing_diagonals(sides_with_coor, cost):\n",
    "    updated_side_len = list(sides_with_coor.keys())\n",
    "    sides_len = []\n",
    "    for a in updated_side_len:\n",
    "        sides_len.append(float(a))\n",
    "\n",
    "    #base case\n",
    "    if(len(sides_len)<=3):\n",
    "        return cost\n",
    "\n",
    "    min_elm = min(sides_len)\n",
    "\n",
    "    for i in range(len(sides_len)):\n",
    "        if min_elm == sides_len[i]:\n",
    "            m = i\n",
    "            break\n",
    "        updated_side_len.append(sides_len[i])\n",
    "\n",
    "    l = m - 1\n",
    "    if l == -1 :\n",
    "        l = len(sides_len) - 1\n",
    "    r = (m + 1)%len(sides_len)\n",
    "    \n",
    "    a = sides_len[l]\n",
    "    b = sides_len[m]\n",
    "    c = sides_len[r]\n",
    "    if a >= c:\n",
    "        p1 = sides_with_coor[b][0]\n",
    "        p2 = sides_with_coor[c][1]\n",
    "        \n",
    "        dist = distance(p1, p2)\n",
    "\n",
    "        sides_with_coor.pop(b)\n",
    "        sides_with_coor.pop(c)\n",
    "        sides_with_coor[dist] = (p1, p2)\n",
    "\n",
    "        updated_side_len.append(dist)\n",
    "\n",
    "        cost += dist\n",
    "        \n",
    "    else:\n",
    "        p1 = sides_with_coor[b][1]\n",
    "        p2 = sides_with_coor[a][0]\n",
    "\n",
    "        dist = distance(p1, p2)\n",
    "\n",
    "        sides_with_coor.pop(b)\n",
    "        sides_with_coor.pop(a)\n",
    "        sides_with_coor[dist] = (p1, p2)\n",
    "        \n",
    "        updated_side_len[m]= dist\n",
    "        updated_side_len.append(c)\n",
    "        cost += dist\n",
    "\n",
    "    for i in range(m , len(sides_len)):\n",
    "        updated_side_len.append(sides_len[i])\n",
    "    return choosing_diagonals(sides_with_coor, cost)\n",
    "\n"
   ]
  },
  {
   "cell_type": "code",
   "execution_count": 16,
   "metadata": {},
   "outputs": [
    {
     "name": "stdout",
     "output_type": "stream",
     "text": [
      "Total Cost of Triangulation of sides 3 = 0.0\n",
      "Total Cost of Triangulation of sides 4 = 1.818299720802964\n",
      "Total Cost of Triangulation of sides 5 = 0.46607523034258536\n",
      "Total Cost of Triangulation of sides 6 = 4.6653873188123836\n",
      "Total Cost of Triangulation of sides 7 = 3.4062447127979443\n",
      "Total Cost of Triangulation of sides 8 = 3.006468006895264\n",
      "Total Cost of Triangulation of sides 9 = 5.347273000881387\n",
      "Total Cost of Triangulation of sides 10 = 5.785025889898729\n",
      "Total Cost of Triangulation of sides 11 = 6.227493002681416\n",
      "Total Cost of Triangulation of sides 12 = 4.128726770461522\n",
      "Total Cost of Triangulation of sides 13 = 8.895676663328254\n",
      "Total Cost of Triangulation of sides 14 = 5.940212077495183\n",
      "Total Cost of Triangulation of sides 15 = 8.677935113269214\n",
      "Total Cost of Triangulation of sides 16 = 7.925869707597351\n",
      "Total Cost of Triangulation of sides 17 = 8.567537187770776\n",
      "Total Cost of Triangulation of sides 18 = 10.935034044134458\n",
      "Total Cost of Triangulation of sides 19 = 10.700019348230605\n",
      "Total Cost of Triangulation of sides 20 = 11.097315080046734\n",
      "Total Cost of Triangulation of sides 21 = 10.570697358685496\n",
      "Total Cost of Triangulation of sides 22 = 13.459628290734445\n",
      "Total Cost of Triangulation of sides 23 = 15.524839985359362\n",
      "Total Cost of Triangulation of sides 24 = 16.134834884944873\n",
      "Total Cost of Triangulation of sides 25 = 14.425794598217543\n",
      "Total Cost of Triangulation of sides 26 = 14.205994955103693\n",
      "Total Cost of Triangulation of sides 27 = 16.20458516849269\n",
      "Total Cost of Triangulation of sides 28 = 13.09592015181806\n",
      "Total Cost of Triangulation of sides 29 = 17.377272391532955\n",
      "Total Cost of Triangulation of sides 30 = 16.819744718330515\n",
      "Total Cost of Triangulation of sides 31 = 11.925043079143377\n",
      "Total Cost of Triangulation of sides 32 = 17.210535014748206\n",
      "Total Cost of Triangulation of sides 33 = 14.745201682715338\n",
      "Total Cost of Triangulation of sides 34 = 15.866563281418227\n",
      "Total Cost of Triangulation of sides 35 = 20.50885432246805\n",
      "Total Cost of Triangulation of sides 36 = 15.563842979527246\n",
      "Total Cost of Triangulation of sides 37 = 23.647729580059288\n",
      "Total Cost of Triangulation of sides 38 = 22.386676854526883\n",
      "Total Cost of Triangulation of sides 39 = 23.95843874365594\n",
      "Total Cost of Triangulation of sides 40 = 15.338430158120623\n",
      "Total Cost of Triangulation of sides 41 = 22.170641039888963\n",
      "Total Cost of Triangulation of sides 42 = 18.948935454414006\n",
      "Total Cost of Triangulation of sides 43 = 23.854806531291707\n",
      "Total Cost of Triangulation of sides 44 = 27.103727528080718\n",
      "Total Cost of Triangulation of sides 45 = 28.58325684830269\n",
      "Total Cost of Triangulation of sides 46 = 27.552919631021865\n",
      "Total Cost of Triangulation of sides 47 = 19.517397426081743\n",
      "Total Cost of Triangulation of sides 48 = 27.405164445616343\n",
      "Total Cost of Triangulation of sides 49 = 30.041262816707572\n",
      "Total Cost of Triangulation of sides 50 = 32.778799117873774\n",
      "Total Cost of Triangulation of sides 51 = 26.042234997073948\n",
      "Total Cost of Triangulation of sides 52 = 23.77354676850679\n",
      "Total Cost of Triangulation of sides 53 = 24.96528930720201\n",
      "Total Cost of Triangulation of sides 54 = 33.18950801557761\n",
      "Total Cost of Triangulation of sides 55 = 31.772188060834917\n",
      "Total Cost of Triangulation of sides 56 = 28.357414374999575\n",
      "Total Cost of Triangulation of sides 57 = 30.457338204228503\n",
      "Total Cost of Triangulation of sides 58 = 24.695903887493092\n",
      "Total Cost of Triangulation of sides 59 = 28.662922165831397\n",
      "Total Cost of Triangulation of sides 60 = 32.758326825568616\n",
      "Total Cost of Triangulation of sides 61 = 35.85815419084052\n",
      "Total Cost of Triangulation of sides 62 = 25.600389767585828\n",
      "Total Cost of Triangulation of sides 63 = 24.729761905170772\n",
      "Total Cost of Triangulation of sides 64 = 35.58013782211161\n",
      "Total Cost of Triangulation of sides 65 = 36.12144358934767\n",
      "Total Cost of Triangulation of sides 66 = 34.24876996913079\n",
      "Total Cost of Triangulation of sides 67 = 40.87448592274181\n",
      "Total Cost of Triangulation of sides 68 = 31.48805854422483\n",
      "Total Cost of Triangulation of sides 69 = 35.81322496729573\n",
      "Total Cost of Triangulation of sides 70 = 34.00281309544944\n",
      "Total Cost of Triangulation of sides 71 = 39.0409190481424\n",
      "Total Cost of Triangulation of sides 72 = 42.1256119567706\n",
      "Total Cost of Triangulation of sides 73 = 34.1513961228024\n",
      "Total Cost of Triangulation of sides 74 = 43.26923753578408\n",
      "Total Cost of Triangulation of sides 75 = 37.313717611962836\n",
      "Total Cost of Triangulation of sides 76 = 33.40663295901412\n",
      "Total Cost of Triangulation of sides 77 = 41.161818577929004\n",
      "Total Cost of Triangulation of sides 78 = 44.664159039275866\n",
      "Total Cost of Triangulation of sides 79 = 38.486305388674886\n",
      "Total Cost of Triangulation of sides 80 = 42.3217460554877\n",
      "Total Cost of Triangulation of sides 81 = 39.951215229778924\n",
      "Total Cost of Triangulation of sides 82 = 40.82709181894728\n",
      "Total Cost of Triangulation of sides 83 = 41.50389634289315\n",
      "Total Cost of Triangulation of sides 84 = 38.925074149528044\n",
      "Total Cost of Triangulation of sides 85 = 44.67657297295851\n",
      "Total Cost of Triangulation of sides 86 = 47.68465790125041\n",
      "Total Cost of Triangulation of sides 87 = 50.16916951698596\n",
      "Total Cost of Triangulation of sides 88 = 42.74370681604208\n",
      "Total Cost of Triangulation of sides 89 = 44.34552863059116\n",
      "Total Cost of Triangulation of sides 90 = 53.471564611843306\n",
      "Total Cost of Triangulation of sides 91 = 41.5279675551688\n",
      "Total Cost of Triangulation of sides 92 = 52.71887460188516\n",
      "Total Cost of Triangulation of sides 93 = 38.107601886228984\n",
      "Total Cost of Triangulation of sides 94 = 45.72844112408991\n",
      "Total Cost of Triangulation of sides 95 = 44.21768908663591\n",
      "Total Cost of Triangulation of sides 96 = 46.2716731190199\n",
      "Total Cost of Triangulation of sides 97 = 49.236974269400584\n",
      "Total Cost of Triangulation of sides 98 = 39.55291698729169\n",
      "Total Cost of Triangulation of sides 99 = 44.282519398667624\n",
      "Total Cost of Triangulation of sides 100 = 51.85162638585056\n"
     ]
    }
   ],
   "source": [
    "file = open('vertices.txt', 'r')\n",
    "\n",
    "\n",
    "\n",
    "\n",
    "for poly in file.readlines():\n",
    "    poly = list(poly.split('; '))\n",
    "    poly = poly[:-1]\n",
    "    cost = 0.0\n",
    "\n",
    "    sides_len = []\n",
    "    sides_with_coor = dict()\n",
    "\n",
    "    myfile = open(\"poly_sides.data\", 'a')\n",
    "    for i in range(len(poly)):\n",
    "        j = i\n",
    "        if i == len(poly) -1:\n",
    "            j = -1\n",
    "        \n",
    "        dist = distance(poly[i], poly[j + 1])\n",
    "        sides_with_coor[dist] = (poly[i], poly[j + 1])\n",
    "\n",
    "        myfile.writelines(str(int(dist*1000)) + \"\\n\")\n",
    "        sides_len.append(dist)\n",
    "    cost = choosing_diagonals(sides_with_coor, cost)\n",
    "    \n",
    "    print(f\"Total Cost of Triangulation of sides {len(sides_len)} = {cost}\")\n",
    "    \n"
   ]
  },
  {
   "attachments": {},
   "cell_type": "markdown",
   "metadata": {},
   "source": [
    "# || Rough Work ||"
   ]
  },
  {
   "cell_type": "code",
   "execution_count": 17,
   "metadata": {},
   "outputs": [
    {
     "data": {
      "text/plain": [
       "{'1': (1, 2), '2': (4, 5)}"
      ]
     },
     "execution_count": 17,
     "metadata": {},
     "output_type": "execute_result"
    }
   ],
   "source": [
    "l = {'1': (1,2), '2': (4, 5)}\n",
    "l\n"
   ]
  },
  {
   "cell_type": "code",
   "execution_count": 18,
   "metadata": {},
   "outputs": [
    {
     "data": {
      "text/plain": [
       "(4, 5)"
      ]
     },
     "execution_count": 18,
     "metadata": {},
     "output_type": "execute_result"
    }
   ],
   "source": [
    "l.pop('2', '1')"
   ]
  },
  {
   "cell_type": "code",
   "execution_count": 19,
   "metadata": {},
   "outputs": [
    {
     "data": {
      "text/plain": [
       "[10, 2, 3, 4, 5]"
      ]
     },
     "execution_count": 19,
     "metadata": {},
     "output_type": "execute_result"
    }
   ],
   "source": [
    "p = [10, 2, 3, 4, 5]\n",
    "p"
   ]
  },
  {
   "cell_type": "code",
   "execution_count": 20,
   "metadata": {},
   "outputs": [
    {
     "data": {
      "text/plain": [
       "10"
      ]
     },
     "execution_count": 20,
     "metadata": {},
     "output_type": "execute_result"
    }
   ],
   "source": [
    "p.pop(0)"
   ]
  },
  {
   "cell_type": "code",
   "execution_count": 21,
   "metadata": {},
   "outputs": [],
   "source": [
    "p[0] = 90"
   ]
  },
  {
   "cell_type": "code",
   "execution_count": 22,
   "metadata": {},
   "outputs": [
    {
     "data": {
      "text/plain": [
       "[90, 3, 4, 5]"
      ]
     },
     "execution_count": 22,
     "metadata": {},
     "output_type": "execute_result"
    }
   ],
   "source": [
    "p"
   ]
  },
  {
   "cell_type": "code",
   "execution_count": null,
   "metadata": {},
   "outputs": [],
   "source": []
  }
 ],
 "metadata": {
  "kernelspec": {
   "display_name": "Python 3",
   "language": "python",
   "name": "python3"
  },
  "language_info": {
   "codemirror_mode": {
    "name": "ipython",
    "version": 3
   },
   "file_extension": ".py",
   "mimetype": "text/x-python",
   "name": "python",
   "nbconvert_exporter": "python",
   "pygments_lexer": "ipython3",
   "version": "3.11.1"
  },
  "orig_nbformat": 4
 },
 "nbformat": 4,
 "nbformat_minor": 2
}
